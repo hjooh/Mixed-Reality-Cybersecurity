{
 "cells": [
  {
   "cell_type": "code",
   "execution_count": 17,
   "id": "28a56a11-308d-470e-bbfb-cf740dea0def",
   "metadata": {},
   "outputs": [],
   "source": [
    "import pandas as pd\n",
    "import numpy as np"
   ]
  },
  {
   "cell_type": "code",
   "execution_count": 19,
   "id": "f02423e7-de4a-4f3b-b6ea-12feb44fd2c0",
   "metadata": {},
   "outputs": [],
   "source": [
    "dataset = pd.read_csv(\"./blinds_edited.csv\")"
   ]
  },
  {
   "cell_type": "code",
   "execution_count": null,
   "id": "90bca5c8-7e59-45fb-a47e-f7784025ab1f",
   "metadata": {},
   "outputs": [],
   "source": []
  },
  {
   "cell_type": "code",
   "execution_count": null,
   "id": "2832d7c2-2c40-473a-afec-2064720c2b5c",
   "metadata": {},
   "outputs": [],
   "source": []
  }
 ],
 "metadata": {
  "kernelspec": {
   "display_name": "Python 3 (ipykernel)",
   "language": "python",
   "name": "python3"
  },
  "language_info": {
   "codemirror_mode": {
    "name": "ipython",
    "version": 3
   },
   "file_extension": ".py",
   "mimetype": "text/x-python",
   "name": "python",
   "nbconvert_exporter": "python",
   "pygments_lexer": "ipython3",
   "version": "3.12.3"
  }
 },
 "nbformat": 4,
 "nbformat_minor": 5
}
