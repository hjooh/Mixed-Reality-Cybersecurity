{
 "cells": [
  {
   "cell_type": "code",
   "execution_count": 2,
   "id": "a29b53bb-8df1-42a8-9d0a-79336c17e3d8",
   "metadata": {},
   "outputs": [],
   "source": [
    "# Imports\n",
    "import pandas as pd\n",
    "from sklearn.model_selection import GroupKFold, GridSearchCV\n",
    "from sklearn.metrics import accuracy_score, classification_report, ConfusionMatrixDisplay\n",
    "from sklearn.preprocessing import StandardScaler, LabelEncoder\n",
    "from sklearn.pipeline import Pipeline\n",
    "from sklearn.svm import SVC\n",
    "import numpy as np\n"
   ]
  },
  {
   "cell_type": "code",
   "execution_count": 3,
   "id": "f2e1a596-28e8-4f85-bf66-3247ae51bd5c",
   "metadata": {},
   "outputs": [],
   "source": [
    "blinds1 = pd.read_csv(\"../../data3/blinds_data/blinds_meetingroom_1.csv\")\n",
    "blinds2 = pd.read_csv(\"../../data3/blinds_data/blinds_meetingroom_2.csv\")\n",
    "blinds3 = pd.read_csv(\"../../data3/blinds_data/blinds_meetingroom_3_offset2seconds.csv\")\n",
    "blinds4 = pd.read_csv(\"../../data3/blinds_data/blinds_meetingroom_4.csv\")\n",
    "\n",
    "hallway1 = pd.read_csv(\"../../data3/hallway_data/hallway_1.csv\")\n",
    "hallway2 = pd.read_csv(\"../../data3/hallway_data/hallway_2.csv\")\n",
    "hallway3 = pd.read_csv(\"../../data3/hallway_data/hallway_3.csv\")\n",
    "hallway4 = pd.read_csv(\"../../data3/hallway_data/hallway_4.csv\")\n",
    "\n",
    "windows1 = pd.read_csv(\"../../data3/windows_data/windows_meetingroom_1.csv\")\n",
    "windows2 = pd.read_csv(\"../../data3/windows_data/windows_meetingroom_2.csv\")\n",
    "windows3 = pd.read_csv(\"../../data3/windows_data/windows_meetingroom_3.csv\")\n",
    "windows4 = pd.read_csv(\"../../data3/windows_data/windows_meetingroom_4.csv\")\n"
   ]
  },
  {
   "cell_type": "code",
   "execution_count": null,
   "id": "826f7403",
   "metadata": {},
   "outputs": [
    {
     "name": "stdout",
     "output_type": "stream",
     "text": [
      "Fitting 3 folds for each of 9 candidates, totalling 27 fits\n",
      "Best parameters: {'svm__C': 10, 'svm__gamma': 0.001}\n",
      "Best CV accuracy: 0.9073\n",
      "\n",
      "   param_svm__C param_svm__gamma  mean_test_score  std_test_score\n",
      "0           0.1            scale         0.847245        0.083087\n",
      "1           0.1             0.01         0.890673        0.101203\n",
      "2           0.1            0.001         0.704941        0.112776\n",
      "3           1.0            scale         0.893550        0.121648\n",
      "4           1.0             0.01         0.906977        0.109206\n",
      "5           1.0            0.001         0.904390        0.094613\n",
      "6          10.0            scale         0.895320        0.126466\n",
      "7          10.0             0.01         0.899577        0.135348\n",
      "8          10.0            0.001         0.907329        0.117858\n"
     ]
    }
   ],
   "source": [
    "# assign labels + group IDs\n",
    "dfs   = [blinds1, blinds2, blinds3,\n",
    "         hallway1, hallway2, hallway3,\n",
    "         windows1, windows2, windows3]\n",
    "\n",
    "labels   = []\n",
    "groups   = []\n",
    "group_id = 0\n",
    "\n",
    "for df in dfs:\n",
    "    # determine room type from filename in practice\n",
    "    if group_id < 3:\n",
    "        room = \"BLINDS\"\n",
    "    elif group_id < 6:\n",
    "        room = \"HALLWAYS\"\n",
    "    else:\n",
    "        room = \"WINDOWS\"\n",
    "    labels += [room] * len(df)\n",
    "    groups += [group_id] * len(df)\n",
    "    group_id += 1\n",
    "\n",
    "X_train = pd.concat(dfs, axis=0, ignore_index=True)\n",
    "y_train = np.array(labels)\n",
    "groups  = np.array(groups)\n",
    "\n",
    "# feature selection & label encoding\n",
    "numeric_cols = X_train.select_dtypes(include=\"number\").columns\n",
    "X_train = X_train[numeric_cols].astype(float)\n",
    "\n",
    "le = LabelEncoder()\n",
    "y_train = le.fit_transform(y_train)   # 0=BLINDS,1=HALLWAYS,2=WINDOWS\n",
    "\n",
    "# pipeline and parameter grid\n",
    "pipeline = Pipeline([\n",
    "    (\"scaler\", StandardScaler()),\n",
    "    (\"svm\",    SVC(decision_function_shape=\"ovo\", probability=True))\n",
    "])\n",
    "\n",
    "param_grid = {\n",
    "    \"svm__C\":     [0.1, 1, 10],\n",
    "    \"svm__gamma\": [\"scale\", 0.01, 0.001],\n",
    "   \n",
    "}\n",
    "\n",
    "# 3‑fold GroupKFold CV (each fold holds out one trial)\n",
    "gkf = GroupKFold(n_splits=3)\n",
    "\n",
    "search = GridSearchCV(\n",
    "    estimator=pipeline,\n",
    "    param_grid=param_grid,\n",
    "    cv=gkf.split(X_train, y_train, groups),\n",
    "    scoring=\"accuracy\",\n",
    "    verbose=1,\n",
    "    n_jobs=-1,\n",
    "    return_train_score=True\n",
    ")\n",
    "\n",
    "# grid search\n",
    "search.fit(X_train, y_train)\n",
    "\n",
    "# results\n",
    "print(\"Best params:\", search.best_params_)\n",
    "print(f\"Best CV accuracy: {search.best_score_:.4f}\\n\")\n",
    "\n",
    "cv_results = pd.DataFrame(search.cv_results_)\n",
    "print(cv_results[[\n",
    "    \"param_svm__C\", \"param_svm__gamma\",\n",
    "    \"mean_test_score\", \"std_test_score\"\n",
    "]])"
   ]
  },
  {
   "cell_type": "code",
   "execution_count": null,
   "id": "61950f49",
   "metadata": {},
   "outputs": [
    {
     "name": "stdout",
     "output_type": "stream",
     "text": [
      "Test   accuracy on trial 4:  0.9350253807106599\n",
      "\n",
      "Classification report:\n",
      "              precision    recall  f1-score   support\n",
      "\n",
      "      BLINDS       0.87      0.97      0.92       360\n",
      "    HALLWAYS       1.00      1.00      1.00       302\n",
      "     WINDOWS       0.96      0.84      0.89       323\n",
      "\n",
      "    accuracy                           0.94       985\n",
      "   macro avg       0.94      0.94      0.94       985\n",
      "weighted avg       0.94      0.94      0.93       985\n",
      "\n"
     ]
    },
    {
     "data": {
      "image/png": "[encoded data removed]",
      "text/plain": [
       "<Figure size 640x480 with 2 Axes>"
      ]
     },
     "metadata": {},
     "output_type": "display_data"
    }
   ],
   "source": [
    "dfs_test = [blinds4, hallway4, windows4]\n",
    "labels_test = ([\"BLINDS\"]  * len(blinds4)\n",
    "             + [\"HALLWAYS\"] * len(hallway4)\n",
    "             + [\"WINDOWS\"] * len(windows4))\n",
    "\n",
    "X_test = pd.concat(dfs_test, axis=0, ignore_index=True)\n",
    "y_test = np.array(labels_test)\n",
    "\n",
    "\n",
    "X_test = X_test[numeric_cols].astype(float)\n",
    "\n",
    "y_test_enc = le.transform(y_test)    # BLINDS→0, HALLWAYS→1, WINDOWS→2\n",
    "\n",
    "best_model = search.best_estimator_\n",
    "\n",
    "y_pred = best_model.predict(X_test)\n",
    "\n",
    "print(\"Test accuracy on trial 4: \", accuracy_score(y_test_enc, y_pred))\n",
    "print(\"\\nClassification report:\")\n",
    "print(classification_report(y_test_enc, y_pred, target_names=le.classes_))\n",
    "\n",
    "import matplotlib.pyplot as plt\n",
    "disp = ConfusionMatrixDisplay.from_predictions(\n",
    "    y_test_enc, y_pred, display_labels=le.classes_,\n",
    "    cmap=plt.cm.Blues, normalize=None\n",
    ")\n",
    "plt.title(\"Confusion Matrix on Trial 4\")\n",
    "plt.show()"
   ]
  }
 ],
 "metadata": {
  "kernelspec": {
   "display_name": ".venv",
   "language": "python",
   "name": "python3"
  },
  "language_info": {
   "codemirror_mode": {
    "name": "ipython",
    "version": 3
   },
   "file_extension": ".py",
   "mimetype": "text/x-python",
   "name": "python",
   "nbconvert_exporter": "python",
   "pygments_lexer": "ipython3",
   "version": "3.9.13"
  }
 },
 "nbformat": 4,
 "nbformat_minor": 5
}
